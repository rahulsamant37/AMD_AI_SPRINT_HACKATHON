{
 "cells": [
  {
   "cell_type": "code",
   "execution_count": 1,
   "id": "6e245323-9f9f-4720-bab7-c99383592d32",
   "metadata": {},
   "outputs": [],
   "source": [
    "from flask import Flask, request, jsonify\n",
    "from threading import Thread\n",
    "import json"
   ]
  },
  {
   "cell_type": "code",
   "execution_count": 2,
   "id": "9a6bf88c-6b2b-46b8-87e9-47b496692557",
   "metadata": {},
   "outputs": [],
   "source": [
    "app = Flask(__name__)\n",
    "received_data = []"
   ]
  },
  {
   "cell_type": "code",
   "execution_count": 3,
   "id": "258cbc0b-107a-4639-ab5f-a21731e194c3",
   "metadata": {},
   "outputs": [],
   "source": [
    "def your_meeting_assistant(data): \n",
    "    data[\"processed\"] = {}\n",
    "    data[\"output\"] = {}\n",
    "    return data"
   ]
  },
  {
   "cell_type": "code",
   "execution_count": 4,
   "id": "f8a4f048-22da-443c-a2f0-219a723a8dad",
   "metadata": {},
   "outputs": [],
   "source": [
    "@app.route('/receive', methods=['POST'])\n",
    "def receive():\n",
    "    data = request.get_json()\n",
    "    print(f\"\\n Received: {json.dumps(data, indent=2)}\")\n",
    "    new_data = your_meeting_assistant(data)  # Your AI Meeting Assistant Function Call\n",
    "    received_data.append(data)\n",
    "    print(f\"\\n\\n\\n Sending:\\n {json.dumps(new_data, indent=2)}\")\n",
    "    return jsonify(new_data)\n",
    "\n",
    "def run_flask():\n",
    "    app.run(host='0.0.0.0', port=5000)"
   ]
  },
  {
   "cell_type": "code",
   "execution_count": 5,
   "id": "9a603634",
   "metadata": {},
   "outputs": [
    {
     "name": "stdout",
     "output_type": "stream",
     "text": [
      " * Serving Flask app '__main__'\n",
      " * Debug mode: off\n"
     ]
    },
    {
     "name": "stderr",
     "output_type": "stream",
     "text": [
      "\u001b[31m\u001b[1mWARNING: This is a development server. Do not use it in a production deployment. Use a production WSGI server instead.\u001b[0m\n",
      " * Running on all addresses (0.0.0.0)\n",
      " * Running on http://127.0.0.1:5000\n",
      " * Running on http://134.199.202.7:5000\n",
      "\u001b[33mPress CTRL+C to quit\u001b[0m\n",
      "134.199.194.89 - - [10/Jul/2025 19:59:03] \"POST /receive HTTP/1.1\" 200 -\n"
     ]
    },
    {
     "name": "stdout",
     "output_type": "stream",
     "text": [
      "\n",
      " Received: {\n",
      "  \"Request_id\": \"6118b54f-907b-4451-8d48-dd13d76033a5\",\n",
      "  \"Datetime\": \"02-07-2025T12:34:55\",\n",
      "  \"Location\": \"IIT Mumbai\",\n",
      "  \"From\": \"teamadmin.amd@gmail.com\",\n",
      "  \"Attendees\": [\n",
      "    {\n",
      "      \"email\": \"userone.amd@gmail.com\"\n",
      "    },\n",
      "    {\n",
      "      \"email\": \"usertwo.amd@gmail.com\"\n",
      "    }\n",
      "  ],\n",
      "  \"EmailContent\": \"Hi Team. Let's meet next Thursday and discuss about our Goals.\"\n",
      "}\n",
      "\n",
      "\n",
      "\n",
      " Sending:\n",
      " {\n",
      "  \"Request_id\": \"6118b54f-907b-4451-8d48-dd13d76033a5\",\n",
      "  \"Datetime\": \"02-07-2025T12:34:55\",\n",
      "  \"Location\": \"IIT Mumbai\",\n",
      "  \"From\": \"teamadmin.amd@gmail.com\",\n",
      "  \"Attendees\": [\n",
      "    {\n",
      "      \"email\": \"userone.amd@gmail.com\"\n",
      "    },\n",
      "    {\n",
      "      \"email\": \"usertwo.amd@gmail.com\"\n",
      "    }\n",
      "  ],\n",
      "  \"EmailContent\": \"Hi Team. Let's meet next Thursday and discuss about our Goals.\",\n",
      "  \"processed\": {},\n",
      "  \"output\": {}\n",
      "}\n"
     ]
    }
   ],
   "source": [
    "# Start Flask in a background thread\n",
    "Thread(target=run_flask, daemon=True).start()"
   ]
  }
 ],
 "metadata": {
  "kernelspec": {
   "display_name": "Python 3 (ipykernel)",
   "language": "python",
   "name": "python3"
  },
  "language_info": {
   "codemirror_mode": {
    "name": "ipython",
    "version": 3
   },
   "file_extension": ".py",
   "mimetype": "text/x-python",
   "name": "python",
   "nbconvert_exporter": "python",
   "pygments_lexer": "ipython3",
   "version": "3.12.10"
  }
 },
 "nbformat": 4,
 "nbformat_minor": 5
}
